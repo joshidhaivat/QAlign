{
 "cells": [
  {
   "cell_type": "markdown",
   "metadata": {},
   "source": [
    "Load Reads and reference genome"
   ]
  },
  {
   "cell_type": "code",
   "execution_count": 4,
   "metadata": {},
   "outputs": [],
   "source": [
    "# Get the kmer table\n",
    "import sys\n",
    "sys.path.append('/home/djjoshi')\n",
    "import all_functions as func\n",
    "import numpy as np\n",
    "import Levenshtein as L\n",
    "%load_ext autoreload\n",
    "%autoreload 2\n",
    "kmermap = func.get_kmer_map('/home/djjoshi/r9.4_6mer_nucleotide_template_model.txt')"
   ]
  },
  {
   "cell_type": "code",
   "execution_count": 5,
   "metadata": {},
   "outputs": [
    {
     "name": "stdout",
     "output_type": "stream",
     "text": [
      "['/home/djjoshi/nanopore_bioinformatics/read2genome_human/simulations', '/home/djjoshi/anaconda3/lib/python37.zip', '/home/djjoshi/anaconda3/lib/python3.7', '/home/djjoshi/anaconda3/lib/python3.7/lib-dynload', '', '/home/djjoshi/anaconda3/lib/python3.7/site-packages', '/home/djjoshi/anaconda3/lib/python3.7/site-packages/IPython/extensions', '/home/djjoshi/.ipython', '/home/djjoshi']\n"
     ]
    }
   ],
   "source": [
    "import sys\n",
    "print(sys.path)"
   ]
  },
  {
   "cell_type": "code",
   "execution_count": null,
   "metadata": {},
   "outputs": [],
   "source": [
    "# Get Reads\n",
    "folder = 'expt3/'\n",
    "sampled_read,sr_nr,sr_name = func.get_reads_from_fasta(folder+'sampled_read.fasta')\n",
    "print(len(sampled_read))\n",
    "print(sr_nr)\n",
    "reads,num_reads,reads_name = func.get_reads_from_fastq(folder+'pass.fastq')\n",
    "print(len(reads))\n",
    "print(num_reads)\n",
    "\n",
    "\n",
    "# reads2,num_reads2,_ = func.get_reads_from_fastq(folder+'ERR2683661.fastq')\n",
    "# print(len(reads2))\n",
    "# print(num_reads2)\n",
    "# print('Done!')"
   ]
  },
  {
   "cell_type": "code",
   "execution_count": null,
   "metadata": {},
   "outputs": [],
   "source": [
    "def get_sampling_ground_truth(filename):\n",
    "    import numpy as np\n",
    "    fid = open(filename,'r')\n",
    "    out = {}\n",
    "    for aline in fid:\n",
    "        cols = aline.split('; ')\n",
    "        read = int(cols[0][5:])\n",
    "        start = int(cols[1][14:])\n",
    "        length = int(cols[2][14:-1])\n",
    "        stop = start+length\n",
    "        out[read] = np.array([start,stop,length])\n",
    "    fid.close()\n",
    "    return out"
   ]
  },
  {
   "cell_type": "code",
   "execution_count": null,
   "metadata": {},
   "outputs": [],
   "source": [
    "sampling_loc = get_sampling_ground_truth(folder+'sampling_location.txt')"
   ]
  },
  {
   "cell_type": "code",
   "execution_count": null,
   "metadata": {},
   "outputs": [],
   "source": [
    "def get_read_number_for_fastq_name(folder):\n",
    "    out = {}\n",
    "    from os import listdir\n",
    "    from os.path import isfile, join\n",
    "    onlyfiles = [f for f in listdir(folder+'fast5/') if isfile(join(folder+'fast5/', f))]\n",
    "    print(len(onlyfiles))\n",
    "    for afile in onlyfiles:\n",
    "        cols = afile.split('_')\n",
    "        read = int(cols[2])\n",
    "        fastq_name = cols[3].split('.')[0]\n",
    "        out[fastq_name] = read\n",
    "    return out"
   ]
  },
  {
   "cell_type": "code",
   "execution_count": null,
   "metadata": {},
   "outputs": [],
   "source": [
    "dictionary = get_read_number_for_fastq_name(folder)"
   ]
  },
  {
   "cell_type": "code",
   "execution_count": null,
   "metadata": {},
   "outputs": [],
   "source": [
    "reads_order = []\n",
    "for i in range(len(reads_name)):\n",
    "    try:\n",
    "        num = dictionary[reads_name[i].split(' ')[0][1:]]\n",
    "        reads_order.append(num)\n",
    "    except:\n",
    "        print('Invalid key! {},{}'.format(i,num))\n",
    "reads_order = np.array(reads_order)\n",
    "print(reads_order.shape)"
   ]
  },
  {
   "cell_type": "code",
   "execution_count": null,
   "metadata": {},
   "outputs": [],
   "source": [
    "sorted_reads = [None]*num_reads\n",
    "sorted_reads_name = reads_name\n",
    "for i in range(len(reads_name)):\n",
    "    sorted_reads[reads_order[i]-1] = reads[i]\n",
    "    sorted_reads_name[reads_order[i]-1] = '>read_'+str(reads_order[i])+'\\n'\n",
    "    if i%100 == 0 :\n",
    "        print('Out_read_length vs True_read_length: {:.4f}'.format(len(reads[i])/len(sampled_read[reads_order[i]-1])))"
   ]
  },
  {
   "cell_type": "code",
   "execution_count": null,
   "metadata": {},
   "outputs": [],
   "source": [
    "func.print_reads_to_fasta(sorted_reads,folder+'reads.fasta',sorted_reads_name)"
   ]
  },
  {
   "cell_type": "code",
   "execution_count": null,
   "metadata": {},
   "outputs": [],
   "source": [
    "# Sanity check ot the above process\n",
    "sorted_read_length = []\n",
    "sampled_read_length = []\n",
    "for i in range(len(sorted_reads)):\n",
    "    sorted_read_length.append(len(sorted_reads[i]))\n",
    "sorted_read_length = np.array(sorted_read_length)\n",
    "for i in range(len(sampled_read)):\n",
    "    sampled_read_length.append(len(sampled_read[i]))\n",
    "sampled_read_length = np.array(sampled_read_length)\n",
    "diff = sorted_read_length/sampled_read_length\n",
    "print(diff[np.where(diff>1.1)[0]])\n",
    "print(diff[np.where(diff<0.9)[0]])"
   ]
  },
  {
   "cell_type": "code",
   "execution_count": null,
   "metadata": {},
   "outputs": [],
   "source": [
    "# Sample reads without replacement\n",
    "idx = np.random.choice(len(reads1),50000,replace=False)\n",
    "r=[]\n",
    "r_length = 0\n",
    "for i in idx:\n",
    "    r.append(reads1[i])\n",
    "    r_length+=len(reads1[i])\n",
    "reads = r\n",
    "del r,reads1\n",
    "num_reads = len(reads)\n",
    "print('num_reads = '+str(num_reads))\n",
    "print('Average read length = {:.2f}'.format(r_length/num_reads))"
   ]
  },
  {
   "cell_type": "code",
   "execution_count": null,
   "metadata": {},
   "outputs": [],
   "source": [
    "# Get reference genome\n",
    "ref,num_ref,name = func.get_genome_from_fasta('ref_chr1.fasta')\n",
    "print(num_ref)\n",
    "print(len(ref))"
   ]
  },
  {
   "cell_type": "code",
   "execution_count": null,
   "metadata": {},
   "outputs": [],
   "source": [
    "# Get the primary chromosome index\n",
    "names_index = []\n",
    "new_names = []\n",
    "for i in range(len(name)):\n",
    "    if name[i][:3] == '>NC':\n",
    "        names_index.append(i)\n",
    "print(len(names_index))\n",
    "for i in range(len(names_index)):\n",
    "    if i<22:\n",
    "        new_names.append('>ref_chr_'+str(i+1)+'\\n')\n",
    "    elif i==22:\n",
    "        new_names.append('>ref_chr_X\\n')\n",
    "    elif i==23:\n",
    "        new_names.append('>ref_chr_Y\\n')\n",
    "    elif i==24:\n",
    "        new_names.append('>ref_chr_M\\n')"
   ]
  },
  {
   "cell_type": "code",
   "execution_count": null,
   "metadata": {},
   "outputs": [],
   "source": [
    "# Get new ref from all ref\n",
    "new_ref = []\n",
    "for i in range(len(names_index)):\n",
    "    new_ref.append(ref[names_index[i]])\n",
    "print(len(new_ref))"
   ]
  },
  {
   "cell_type": "code",
   "execution_count": null,
   "metadata": {},
   "outputs": [],
   "source": [
    "# Print new ref to fasta\n",
    "func.print_ref_to_fasta(new_ref,'GRCh38_ref.fasta',new_names)"
   ]
  },
  {
   "cell_type": "code",
   "execution_count": null,
   "metadata": {},
   "outputs": [],
   "source": [
    "# Print Chr_21 to fasta\n",
    "ref1 = []\n",
    "ref1 = [new_ref[0]]\n",
    "func.print_ref_to_fasta(ref1,'ref_chr1.fasta',[new_names[0]])"
   ]
  },
  {
   "cell_type": "code",
   "execution_count": null,
   "metadata": {},
   "outputs": [],
   "source": [
    "print(len(new_ref[0]))"
   ]
  },
  {
   "cell_type": "markdown",
   "metadata": {},
   "source": [
    "Read the approximate alignments and choose the reads to be used for the experiments"
   ]
  },
  {
   "cell_type": "code",
   "execution_count": null,
   "metadata": {},
   "outputs": [],
   "source": [
    "# Read the paf file\n",
    "approx_mapping_60,_ = func.extract_from_paf('approx_mapping_60.paf')"
   ]
  },
  {
   "cell_type": "code",
   "execution_count": null,
   "metadata": {},
   "outputs": [],
   "source": [
    "a = np.where(approx_mapping_60[:,7]>10000000)[0]\n",
    "b = np.where(approx_mapping_60[:,8]<20000000)[0]\n",
    "c = np.intersect1d(a,b)\n",
    "print(c.shape)\n",
    "d = np.unique(approx_mapping_60[c,0])\n",
    "print(d.shape)"
   ]
  },
  {
   "cell_type": "code",
   "execution_count": null,
   "metadata": {},
   "outputs": [],
   "source": [
    "# Find the read index aligning to the genome section of interest\n",
    "index = []\n",
    "for name in name1:\n",
    "    name = name.split(' ')\n",
    "    name = name[0]\n",
    "    name = name.split('.')\n",
    "    name = int(name[1])\n",
    "    if name in d:\n",
    "        index.append(name)\n",
    "print(len(index))"
   ]
  },
  {
   "cell_type": "code",
   "execution_count": null,
   "metadata": {},
   "outputs": [],
   "source": [
    "reads = []\n",
    "name = []\n",
    "for i in index:\n",
    "    reads.append(reads1[i-1])\n",
    "    name.append('>read_'+str(i)+'\\n')\n",
    "print(len(reads))\n",
    "print(len(name))"
   ]
  },
  {
   "cell_type": "code",
   "execution_count": null,
   "metadata": {},
   "outputs": [],
   "source": [
    "# Print the reads to the fasta file\n",
    "func.print_reads_to_fasta(reads,'reads.fasta')"
   ]
  },
  {
   "cell_type": "code",
   "execution_count": null,
   "metadata": {},
   "outputs": [],
   "source": [
    "approx_mapping_60[55,:]"
   ]
  },
  {
   "cell_type": "markdown",
   "metadata": {},
   "source": [
    "Converting ACGT reads to Quantized reads"
   ]
  },
  {
   "cell_type": "code",
   "execution_count": null,
   "metadata": {},
   "outputs": [],
   "source": [
    "# Load the read file\n",
    "reads,num_reads,name = func.get_reads_from_fasta('reads_60.fasta')\n",
    "print(num_reads)\n",
    "print(len(reads))"
   ]
  },
  {
   "cell_type": "code",
   "execution_count": null,
   "metadata": {},
   "outputs": [],
   "source": [
    "# Find average read length\n",
    "read_length = 0\n",
    "for i in range(num_reads):\n",
    "    read_length+=len(reads[i])\n",
    "print('Average read length = {}'.format(read_length//num_reads))"
   ]
  },
  {
   "cell_type": "code",
   "execution_count": null,
   "metadata": {},
   "outputs": [],
   "source": [
    "# Get complement reads\n",
    "c_reads = [None]*num_reads\n",
    "for i in range(0,num_reads):\n",
    "    c_reads[i] = func.complement(reads[i])\n",
    "print(len(c_reads))"
   ]
  },
  {
   "cell_type": "code",
   "execution_count": null,
   "metadata": {},
   "outputs": [],
   "source": [
    "reads = sorted_reads\n",
    "num_reads = len(reads)\n",
    "print(num_reads)\n",
    "# Get Current reads\n",
    "import numpy as np\n",
    "kmer_k = 6\n",
    "current_reads = [None]*num_reads\n",
    "rc_current_reads = [None]*num_reads\n",
    "for i in range(0,num_reads):\n",
    "    for k in range(0,2):\n",
    "        seq = reads[i]\n",
    "        if(k==1):\n",
    "            seq = func.revcom(seq)\n",
    "        current_mean = np.zeros(len(seq)-kmer_k+1)\n",
    "        for j in range(0,len(seq)-kmer_k+1):\n",
    "            current_mean[j] = kmermap[seq[j:j+6]][0]\n",
    "        if(k==0):\n",
    "            current_reads[i] = current_mean\n",
    "        else:\n",
    "            rc_current_reads[i] = current_mean\n",
    "        current_mean = []\n",
    "    if(i%1000==0):\n",
    "        print(i)"
   ]
  },
  {
   "cell_type": "code",
   "execution_count": null,
   "metadata": {},
   "outputs": [],
   "source": [
    "# Load the reference file\n",
    "ref,num_ref,name_ref = func.get_genome_from_fasta('/home/djjoshi/GRCh38_ref.fasta')\n",
    "print(len(ref))\n",
    "print(num_ref)\n",
    "print(name_ref)"
   ]
  },
  {
   "cell_type": "code",
   "execution_count": null,
   "metadata": {},
   "outputs": [],
   "source": [
    "# Get current reference\n",
    "num_ref = len(ref)\n",
    "current_ref = [None]*num_ref\n",
    "kmer_k = 6\n",
    "for i in range(0,num_ref):\n",
    "    seq = ref[i]\n",
    "    current_mean = np.zeros(len(seq)-kmer_k+1)\n",
    "    for j in range(0,len(seq)-kmer_k+1):\n",
    "        if 'N' in seq[j:j+6] or 'M' in seq[j:j+6] or 'R' in seq[j:j+6]:\n",
    "            continue\n",
    "        try:\n",
    "            current_mean[j] = kmermap[seq[j:j+6].upper()][0]\n",
    "        except:\n",
    "            continue\n",
    "        if j%100000000 == 0:\n",
    "            print('{} out of {}'.format(j,len(seq)))\n",
    "    current_ref[i] = current_mean\n",
    "    current_mean = []\n",
    "    print('Completed chromosome {} of {}'.format(i+1,len(ref)))"
   ]
  },
  {
   "cell_type": "code",
   "execution_count": null,
   "metadata": {},
   "outputs": [],
   "source": [
    "# Get quantized levels\n",
    "folder = '/home/djjoshi/'\n",
    "Read_qlevels = 1\n",
    "level = [2,3,4]\n",
    "if(Read_qlevels==1):\n",
    "    import pickle\n",
    "    with open(folder+'qlevels.txt','rb') as f:\n",
    "        qlevels = pickle.load(f)\n",
    "    print(qlevels)\n",
    "else:\n",
    "    qlevels = [None]*len(level)\n",
    "    #temp_ref = current_ref[:]\n",
    "    for i in range(0,len(level)):\n",
    "        qlevels[i] = func.get_quantize_level(current_ref[0],level[i])\n",
    "    print(qlevels)\n",
    "    import pickle\n",
    "    with open(folder+'qlevels.txt','wb') as f:\n",
    "        pickle.dump(qlevels,f)"
   ]
  },
  {
   "cell_type": "code",
   "execution_count": null,
   "metadata": {},
   "outputs": [],
   "source": [
    "# Get quantized reads and print it to fasta file\n",
    "folder = 'expt3/'\n",
    "for i in range(0,len(level)):\n",
    "    print('Quantizing to level {}'.format(level[i]))\n",
    "    reads_q = []\n",
    "    rc_reads_q = []\n",
    "    for j in range(0,num_reads):\n",
    "        reads_q+=[func.get_quantized_seq(current_reads[j],qlevels[i])]\n",
    "        rc_reads_q+=[func.get_quantized_seq(rc_current_reads[j],qlevels[i])]\n",
    "        if j%1000 == 0:\n",
    "            print('Quantizing read {} of {}'.format(j,len(reads)))\n",
    "    func.print_reads_to_fasta(reads_q,folder+'reads_q'+str(level[i])+'.fasta',reads_name)\n",
    "    func.print_reads_to_fasta(rc_reads_q,folder+'rc_reads_q'+str(level[i])+'.fasta',reads_name)"
   ]
  },
  {
   "cell_type": "code",
   "execution_count": null,
   "metadata": {},
   "outputs": [],
   "source": [
    "# Get quantized ref and print it to fasta file\n",
    "for i in range(0,len(level)):\n",
    "    ref_q=[]\n",
    "    for j in range(0,num_ref):\n",
    "        ref_q+=[func.get_quantized_seq(current_ref[j],qlevels[i])]\n",
    "    func.print_ref_to_fasta(ref_q,'ref_q'+str(level[i])+'.fasta',name_ref)"
   ]
  },
  {
   "cell_type": "code",
   "execution_count": null,
   "metadata": {},
   "outputs": [],
   "source": [
    "# Print reads to fasta files\n",
    "#func.print_reads_to_fasta(reads,folder+'reads.fasta')\n",
    "func.print_reads_to_fasta(c_reads,folder+'c_reads.fasta')"
   ]
  },
  {
   "cell_type": "code",
   "execution_count": null,
   "metadata": {},
   "outputs": [],
   "source": [
    "# Save the reads and reference files\n",
    "import pickle\n",
    "with open(folder+'reads.txt','wb') as f:\n",
    "    pickle.dump(reads,f)\n",
    "#with open(folder+'ref.txt','wb') as f:\n",
    "#    pickle.dump(ref,f)\n",
    "\n",
    "# To load the lists use the following:\n",
    "# with open('reads.txt', 'rb') as f:\n",
    "#     reads = pickle.load(f)"
   ]
  },
  {
   "cell_type": "code",
   "execution_count": null,
   "metadata": {},
   "outputs": [],
   "source": [
    "# Test new quantization function\n",
    "import time\n",
    "%timeit r1 = func.get_quantized_sequences(current_reads[0],qlevels[2])\n",
    "%timeit r2 = func.get_quantized_seq(current_reads[0],qlevels[2])"
   ]
  },
  {
   "cell_type": "code",
   "execution_count": null,
   "metadata": {},
   "outputs": [],
   "source": [
    "############### Analysis #####################\n",
    "reads,_,_ = func.get_reads_from_fasta(folder+'reads_q2.fasta')\n",
    "rc_reads,_,_ = func.get_reads_from_fasta(folder+'rc_reads_q2.fasta')\n",
    "print(len(reads[541]))\n",
    "print(len(reads[853]))\n",
    "print(len(rc_reads[541]))\n",
    "print(len(rc_reads[853]))"
   ]
  },
  {
   "cell_type": "code",
   "execution_count": null,
   "metadata": {},
   "outputs": [],
   "source": [
    "r = []\n",
    "rc_r = []\n",
    "r.append(reads[541])\n",
    "r.append(reads[853])\n",
    "rc_r.append(rc_reads[541])\n",
    "rc_r.append(rc_reads[853])\n",
    "print(len(r))\n",
    "print(len(rc_r))"
   ]
  },
  {
   "cell_type": "code",
   "execution_count": null,
   "metadata": {},
   "outputs": [],
   "source": [
    "func.print_reads_to_fasta(r,'test.fasta')\n",
    "func.print_reads_to_fasta(rc_r,'test_rc.fasta')"
   ]
  },
  {
   "cell_type": "code",
   "execution_count": null,
   "metadata": {},
   "outputs": [],
   "source": [
    "def swap_read_index(reads_name):\n",
    "    out = {}\n",
    "    for i in range(len(reads_name)):\n",
    "        index = int(reads_name[i][6:])\n",
    "        out[index] = i\n",
    "    return out"
   ]
  },
  {
   "cell_type": "code",
   "execution_count": null,
   "metadata": {},
   "outputs": [],
   "source": [
    "read_index = swap_read_index(reads_name)"
   ]
  },
  {
   "cell_type": "code",
   "execution_count": null,
   "metadata": {},
   "outputs": [],
   "source": [
    "print(reads_name[1])"
   ]
  },
  {
   "cell_type": "code",
   "execution_count": null,
   "metadata": {},
   "outputs": [],
   "source": [
    "index = 86\n",
    "print(sampling_loc[index])\n",
    "print(len(reads[read_index[index]]))"
   ]
  },
  {
   "cell_type": "code",
   "execution_count": null,
   "metadata": {},
   "outputs": [],
   "source": [
    "L.distance(ref[0][sampling_loc[index][0]:sampling_loc[index][1]].upper(),reads[read_index[index]].upper())/sampling_loc[index][2]"
   ]
  },
  {
   "cell_type": "code",
   "execution_count": null,
   "metadata": {},
   "outputs": [],
   "source": [
    "ref[0][sampling_loc[index][0]:sampling_loc[index][1]]"
   ]
  },
  {
   "cell_type": "code",
   "execution_count": 3,
   "metadata": {},
   "outputs": [],
   "source": [
    "#################### CIGAR Analysis ##########################\n",
    "folder = 'expt1_a0.05_s2.5/'\n",
    "from cigar import Cigar"
   ]
  },
  {
   "cell_type": "code",
   "execution_count": 8,
   "metadata": {},
   "outputs": [
    {
     "name": "stdout",
     "output_type": "stream",
     "text": [
      "The dimension of the extracted PAF file is: (10125, 16)\n",
      "Total time taken: 0.36 seconds\n"
     ]
    }
   ],
   "source": [
    "align1,align_ed1,cigar1 = func.extract_from_paf(folder+'align_11.paf',1)"
   ]
  },
  {
   "cell_type": "code",
   "execution_count": 9,
   "metadata": {},
   "outputs": [
    {
     "name": "stdout",
     "output_type": "stream",
     "text": [
      "Unknown mapping type: tp:A:I\n",
      "\n",
      "Unknown mapping type: tp:A:I\n",
      "\n",
      "Unknown mapping type: tp:A:I\n",
      "\n",
      "Unknown mapping type: tp:A:I\n",
      "\n",
      "Unknown mapping type: tp:A:i\n",
      "\n",
      "Unknown mapping type: tp:A:i\n",
      "\n",
      "Unknown mapping type: tp:A:i\n",
      "\n",
      "Unknown mapping type: tp:A:i\n",
      "\n",
      "Unknown mapping type: tp:A:i\n",
      "\n",
      "Unknown mapping type: tp:A:i\n",
      "\n",
      "Unknown mapping type: tp:A:i\n",
      "\n",
      "Unknown mapping type: tp:A:I\n",
      "\n",
      "Unknown mapping type: tp:A:I\n",
      "\n",
      "Unknown mapping type: tp:A:i\n",
      "\n",
      "Unknown mapping type: tp:A:i\n",
      "\n",
      "Unknown mapping type: tp:A:i\n",
      "\n",
      "Unknown mapping type: tp:A:I\n",
      "\n",
      "Unknown mapping type: tp:A:i\n",
      "\n",
      "Unknown mapping type: tp:A:i\n",
      "\n",
      "Unknown mapping type: tp:A:i\n",
      "\n",
      "Unknown mapping type: tp:A:i\n",
      "\n",
      "Unknown mapping type: tp:A:i\n",
      "\n",
      "Unknown mapping type: tp:A:i\n",
      "\n",
      "Unknown mapping type: tp:A:i\n",
      "\n",
      "Unknown mapping type: tp:A:i\n",
      "\n",
      "Unknown mapping type: tp:A:i\n",
      "\n",
      "Unknown mapping type: tp:A:i\n",
      "\n",
      "Unknown mapping type: tp:A:i\n",
      "\n",
      "Unknown mapping type: tp:A:I\n",
      "\n",
      "Unknown mapping type: tp:A:i\n",
      "\n",
      "Unknown mapping type: tp:A:I\n",
      "\n",
      "Unknown mapping type: tp:A:i\n",
      "\n",
      "Unknown mapping type: tp:A:i\n",
      "\n",
      "Unknown mapping type: tp:A:i\n",
      "\n",
      "Unknown mapping type: tp:A:i\n",
      "\n",
      "Unknown mapping type: tp:A:i\n",
      "\n",
      "Unknown mapping type: tp:A:I\n",
      "\n",
      "Unknown mapping type: tp:A:i\n",
      "\n",
      "Unknown mapping type: tp:A:I\n",
      "\n",
      "Unknown mapping type: tp:A:I\n",
      "\n",
      "Unknown mapping type: tp:A:I\n",
      "\n",
      "Unknown mapping type: tp:A:i\n",
      "\n",
      "Unknown mapping type: tp:A:i\n",
      "\n",
      "Unknown mapping type: tp:A:i\n",
      "\n",
      "Unknown mapping type: tp:A:I\n",
      "\n",
      "Unknown mapping type: tp:A:i\n",
      "\n",
      "Unknown mapping type: tp:A:I\n",
      "\n",
      "Unknown mapping type: tp:A:i\n",
      "\n",
      "Unknown mapping type: tp:A:I\n",
      "\n",
      "Unknown mapping type: tp:A:I\n",
      "\n",
      "Unknown mapping type: tp:A:i\n",
      "\n",
      "Unknown mapping type: tp:A:i\n",
      "\n",
      "Unknown mapping type: tp:A:i\n",
      "\n",
      "Unknown mapping type: tp:A:I\n",
      "\n",
      "Unknown mapping type: tp:A:i\n",
      "\n",
      "Unknown mapping type: tp:A:I\n",
      "\n",
      "Unknown mapping type: tp:A:i\n",
      "\n",
      "Unknown mapping type: tp:A:I\n",
      "\n",
      "Unknown mapping type: tp:A:I\n",
      "\n",
      "Unknown mapping type: tp:A:I\n",
      "\n",
      "Unknown mapping type: tp:A:i\n",
      "\n",
      "Unknown mapping type: tp:A:I\n",
      "\n",
      "Unknown mapping type: tp:A:i\n",
      "\n",
      "Unknown mapping type: tp:A:i\n",
      "\n",
      "Unknown mapping type: tp:A:i\n",
      "\n",
      "Unknown mapping type: tp:A:i\n",
      "\n",
      "Unknown mapping type: tp:A:I\n",
      "\n",
      "Unknown mapping type: tp:A:i\n",
      "\n",
      "Unknown mapping type: tp:A:i\n",
      "\n",
      "Unknown mapping type: tp:A:i\n",
      "\n",
      "Unknown mapping type: tp:A:i\n",
      "\n",
      "Unknown mapping type: tp:A:i\n",
      "\n",
      "Unknown mapping type: tp:A:i\n",
      "\n",
      "Unknown mapping type: tp:A:i\n",
      "\n",
      "Unknown mapping type: tp:A:i\n",
      "\n",
      "Unknown mapping type: tp:A:i\n",
      "\n",
      "Unknown mapping type: tp:A:I\n",
      "\n",
      "Unknown mapping type: tp:A:I\n",
      "\n",
      "Unknown mapping type: tp:A:I\n",
      "\n",
      "Unknown mapping type: tp:A:i\n",
      "\n",
      "Unknown mapping type: tp:A:i\n",
      "\n",
      "Unknown mapping type: tp:A:i\n",
      "\n",
      "Unknown mapping type: tp:A:I\n",
      "\n",
      "Unknown mapping type: tp:A:I\n",
      "\n",
      "Unknown mapping type: tp:A:I\n",
      "\n",
      "Unknown mapping type: tp:A:i\n",
      "\n",
      "Unknown mapping type: tp:A:i\n",
      "\n",
      "Unknown mapping type: tp:A:i\n",
      "\n",
      "Unknown mapping type: tp:A:i\n",
      "\n",
      "Unknown mapping type: tp:A:i\n",
      "\n",
      "The dimension of the extracted PAF file is: (68312, 16)\n",
      "Total time taken: 2.00 seconds\n"
     ]
    }
   ],
   "source": [
    "align2,align_ed2,cigar2 = func.extract_from_paf('../expt2_MinION/align_11.paf',1)"
   ]
  },
  {
   "cell_type": "code",
   "execution_count": 48,
   "metadata": {},
   "outputs": [],
   "source": [
    "start_gap1 = []\n",
    "end_gap1 = []\n",
    "match_length1 = []\n",
    "insertion_length1 = []\n",
    "deletion_length1 = []\n",
    "for i in range(1000):\n",
    "    if align1[i,11] > 55:\n",
    "        start_gap1.append(align1[i,2])\n",
    "        end_gap1.append(align1[i,1]-align1[i,3])\n",
    "        c = Cigar(cigar1[i])\n",
    "        c = list(c.items())\n",
    "        for j in range(len(c)):\n",
    "            if c[j][1] == 'M':\n",
    "                match_length1.append(c[j][0])\n",
    "            elif c[j][1] == 'I':\n",
    "                insertion_length1.append(c[j][0])\n",
    "            elif c[j][1] == 'D':\n",
    "                deletion_length1.append(c[j][0])\n",
    "start_gap1 = np.array(start_gap1)\n",
    "end_gap1 = np.array(end_gap1)\n",
    "match_length1 = np.array(match_length1)\n",
    "insertion_length1 = np.array(insertion_length1)\n",
    "deletion_length1 = np.array(deletion_length1)"
   ]
  },
  {
   "cell_type": "code",
   "execution_count": 14,
   "metadata": {},
   "outputs": [],
   "source": [
    "import matplotlib.pyplot as plt"
   ]
  },
  {
   "cell_type": "code",
   "execution_count": 50,
   "metadata": {},
   "outputs": [
    {
     "data": {
      "image/png": "[encoded data removed]",
      "text/plain": [
       "<Figure size 432x288 with 1 Axes>"
      ]
     },
     "metadata": {
      "needs_background": "light"
     },
     "output_type": "display_data"
    },
    {
     "data": {
      "image/png": "[encoded data removed]",
      "text/plain": [
       "<Figure size 432x288 with 1 Axes>"
      ]
     },
     "metadata": {
      "needs_background": "light"
     },
     "output_type": "display_data"
    },
    {
     "data": {
      "image/png": "[encoded data removed]",
      "text/plain": [
       "<Figure size 432x288 with 1 Axes>"
      ]
     },
     "metadata": {
      "needs_background": "light"
     },
     "output_type": "display_data"
    },
    {
     "data": {
      "image/png": "[encoded data removed]",
      "text/plain": [
       "<Figure size 432x288 with 1 Axes>"
      ]
     },
     "metadata": {
      "needs_background": "light"
     },
     "output_type": "display_data"
    },
    {
     "data": {
      "image/png": "[encoded data removed]",
      "text/plain": [
       "<Figure size 432x288 with 1 Axes>"
      ]
     },
     "metadata": {
      "needs_background": "light"
     },
     "output_type": "display_data"
    }
   ],
   "source": [
    "plt.hist(end_gap1,bins=range(100))\n",
    "plt.title('End gap distribution for simulated data')\n",
    "plt.xlabel('Average = {:.2f}; std = {:.2f}'.format(sum(end_gap1)/len(end_gap1),np.std(end_gap1)))\n",
    "plt.show()\n",
    "\n",
    "plt.hist(start_gap1,bins=range(20))\n",
    "plt.title('Start gap distribution for simulated data')\n",
    "plt.xlabel('Average = {:.2f}; std = {:.2f}'.format(sum(start_gap1)/len(start_gap1),np.std(start_gap1)))\n",
    "plt.show()\n",
    "\n",
    "plt.hist(match_length1,bins=range(80))\n",
    "plt.title('Match length distribution for simulated data')\n",
    "plt.xlabel('Average = {:.2f}; std = {:.2f}'.format(sum(match_length1)/len(match_length1),np.std(match_length1)))\n",
    "plt.show()\n",
    "\n",
    "plt.hist(insertion_length1,bins=range(10))\n",
    "plt.title('Insertion length distribution for simulated data')\n",
    "plt.xlabel('Average = {:.2f}; std = {:.2f}'.format(sum(insertion_length1)/len(insertion_length1),np.std(insertion_length1)))\n",
    "plt.show()\n",
    "\n",
    "plt.hist(deletion_length1,bins=range(10))\n",
    "plt.title('Deletion length distribution for simulated data')\n",
    "plt.xlabel('Average = {:.2f}; std = {:.2f}'.format(sum(deletion_length1)/len(deletion_length1),np.std(deletion_length1)))\n",
    "plt.show()"
   ]
  },
  {
   "cell_type": "code",
   "execution_count": 51,
   "metadata": {},
   "outputs": [],
   "source": [
    "start_gap2 = []\n",
    "end_gap2 = []\n",
    "match_length2 = []\n",
    "insertion_length2 = []\n",
    "deletion_length2 = []\n",
    "for i in range(1000):\n",
    "    if align2[i,11] > 55:\n",
    "        start_gap2.append(align2[i,2])\n",
    "        end_gap2.append(align2[i,1]-align2[i,3])\n",
    "        c = Cigar(cigar2[i])\n",
    "        c = list(c.items())\n",
    "        for j in range(len(c)):\n",
    "            if c[j][1] == 'M':\n",
    "                match_length2.append(c[j][0])\n",
    "            elif c[j][1] == 'I':\n",
    "                insertion_length2.append(c[j][0])\n",
    "            elif c[j][1] == 'D':\n",
    "                deletion_length2.append(c[j][0])\n",
    "                \n",
    "start_gap2 = np.array(start_gap2)\n",
    "end_gap2 = np.array(end_gap2)\n",
    "match_length2 = np.array(match_length2)\n",
    "insertion_length2 = np.array(insertion_length2)\n",
    "deletion_length2 = np.array(deletion_length2)"
   ]
  },
  {
   "cell_type": "code",
   "execution_count": 52,
   "metadata": {},
   "outputs": [
    {
     "data": {
      "image/png": "[encoded data removed]",
      "text/plain": [
       "<Figure size 432x288 with 1 Axes>"
      ]
     },
     "metadata": {
      "needs_background": "light"
     },
     "output_type": "display_data"
    },
    {
     "data": {
      "image/png": "[encoded data removed]",
      "text/plain": [
       "<Figure size 432x288 with 1 Axes>"
      ]
     },
     "metadata": {
      "needs_background": "light"
     },
     "output_type": "display_data"
    },
    {
     "data": {
      "image/png": "[encoded data removed]",
      "text/plain": [
       "<Figure size 432x288 with 1 Axes>"
      ]
     },
     "metadata": {
      "needs_background": "light"
     },
     "output_type": "display_data"
    },
    {
     "data": {
      "image/png": "[encoded data removed]",
      "text/plain": [
       "<Figure size 432x288 with 1 Axes>"
      ]
     },
     "metadata": {
      "needs_background": "light"
     },
     "output_type": "display_data"
    },
    {
     "data": {
      "image/png": "[encoded data removed]",
      "text/plain": [
       "<Figure size 432x288 with 1 Axes>"
      ]
     },
     "metadata": {
      "needs_background": "light"
     },
     "output_type": "display_data"
    }
   ],
   "source": [
    "plt.hist(end_gap2,bins=range(100))\n",
    "plt.title('End gap distribution for Real data')\n",
    "plt.xlabel('Average = {:.2f}; std = {:.2f}'.format(sum(end_gap2)/len(end_gap2),np.std(end_gap2)))\n",
    "plt.show()\n",
    "\n",
    "plt.hist(start_gap2,bins=range(100))\n",
    "plt.title('Start gap distribution for Real data')\n",
    "plt.xlabel('Average = {:.2f}; std = {:.2f}'.format(sum(start_gap2)/len(start_gap2),np.std(start_gap2)))\n",
    "plt.show()\n",
    "\n",
    "plt.hist(match_length2,bins=range(80))\n",
    "plt.title('Match length distribution for Real data')\n",
    "plt.xlabel('Average = {:.2f}; std = {:.2f}'.format(sum(match_length2)/len(match_length2),np.std(match_length2)))\n",
    "plt.show()\n",
    "\n",
    "plt.hist(insertion_length2,bins=range(10))\n",
    "plt.title('Insertion length distribution for Real data')\n",
    "plt.xlabel('Average = {:.2f}; std = {:.2f}'.format(sum(insertion_length2)/len(insertion_length2),np.std(insertion_length2)))\n",
    "plt.show()\n",
    "\n",
    "plt.hist(deletion_length2,bins=range(10))\n",
    "plt.title('Deletion length distribution for Real data')\n",
    "plt.xlabel('Average = {:.2f}; std = {:.2f}'.format(sum(deletion_length2)/len(deletion_length2),np.std(deletion_length2)))\n",
    "plt.show()"
   ]
  },
  {
   "cell_type": "code",
   "execution_count": null,
   "metadata": {},
   "outputs": [],
   "source": []
  }
 ],
 "metadata": {
  "kernelspec": {
   "display_name": "Python 3",
   "language": "python",
   "name": "python3"
  },
  "language_info": {
   "codemirror_mode": {
    "name": "ipython",
    "version": 3
   },
   "file_extension": ".py",
   "mimetype": "text/x-python",
   "name": "python",
   "nbconvert_exporter": "python",
   "pygments_lexer": "ipython3",
   "version": "3.7.4"
  }
 },
 "nbformat": 4,
 "nbformat_minor": 2
}
